{
 "cells": [
  {
   "cell_type": "code",
   "execution_count": null,
   "metadata": {},
   "outputs": [],
   "source": [
    "list and tuple"
   ]
  },
  {
   "cell_type": "code",
   "execution_count": null,
   "metadata": {},
   "outputs": [],
   "source": []
  },
  {
   "cell_type": "code",
   "execution_count": 14,
   "metadata": {},
   "outputs": [
    {
     "name": "stdout",
     "output_type": "stream",
     "text": [
      "prasansha\n"
     ]
    }
   ],
   "source": [
    "#list\n",
    "mentor_names = ['prasansha', 'narayan', 'ashim', 'samrid']\n",
    "#print(mentor_names)\n",
    "\n",
    "#accessing list's values\n",
    "print(mentor_names[0])"
   ]
  },
  {
   "cell_type": "code",
   "execution_count": 17,
   "metadata": {},
   "outputs": [
    {
     "name": "stdout",
     "output_type": "stream",
     "text": [
      "['anuj', 'narayan', 'ashim', 'samrid', 'pratikshya', 'pratikshya', 'pratikshya']\n",
      "['narayan', 'ashim', 'samrid', 'pratikshya', 'pratikshya', 'pratikshya']\n",
      "['anuj', 'narayan', 'ashim', 'samrid', 'pratikshya', 'pratikshya', 'pratikshya']\n",
      "['prashu', 'narayan', 'ashim', 'samrid', 'pratikshya', 'pratikshya', 'pratikshya']\n"
     ]
    }
   ],
   "source": [
    "#for mentor in mentor_names:\n",
    " #   print(mentor)\n",
    "\n",
    "#adding something to list\n",
    "mentor_names.append('pratikshya')\n",
    "\n",
    "print(mentor_names)\n",
    "\n",
    "#removing the element\n",
    "mentor_names.pop(0)\n",
    "print(mentor_names)\n",
    "\n",
    "#insert into specific index\n",
    "mentor_names.insert(0,'anuj')\n",
    "print(mentor_names)\n",
    "\n",
    "#replace the values\n",
    "mentor_names[0] = 'prashu'\n",
    "print(mentor_names)"
   ]
  },
  {
   "cell_type": "markdown",
   "metadata": {},
   "source": [
    "list is mutable, we can change things in this variable\n",
    "\n",
    "redeclaration:\n",
    "a = \"prasansha\"\n",
    "a = \"prashu\"\n",
    "\n",
    "# interior mutability\n",
    "li1 = [1,2,3]\n",
    "li1.append(4)"
   ]
  },
  {
   "cell_type": "markdown",
   "metadata": {},
   "source": [
    "list vs tuple:\n",
    "\n",
    "list:\n",
    "1. initialization -> [1,2]\n",
    "2. mutable\n",
    "\n",
    "tuple:\n",
    "1. initialization -> ('something', 'something,)\n",
    "2. immutable"
   ]
  },
  {
   "cell_type": "code",
   "execution_count": 18,
   "metadata": {},
   "outputs": [
    {
     "name": "stdout",
     "output_type": "stream",
     "text": [
      "red\n",
      "violet\n",
      "green\n",
      "blue\n",
      "yellow\n",
      "indigo\n",
      "orange\n"
     ]
    }
   ],
   "source": [
    "#tuple\n",
    "\n",
    "rainbow_colors = ('red', 'violet', 'green','blue', 'yellow', 'indigo', 'orange')\n",
    "\n",
    "for color in rainbow_colors:\n",
    "    print (color)"
   ]
  },
  {
   "cell_type": "code",
   "execution_count": 21,
   "metadata": {},
   "outputs": [
    {
     "name": "stdout",
     "output_type": "stream",
     "text": [
      "6\n",
      "7\n"
     ]
    }
   ],
   "source": [
    "index = rainbow_colors.index('orange')\n",
    "print(index)\n",
    "\n",
    "#length os list or tuple\n",
    "print(len(rainbow_colors))"
   ]
  }
 ],
 "metadata": {
  "kernelspec": {
   "display_name": "Python 3.9.13 64-bit (microsoft store)",
   "language": "python",
   "name": "python3"
  },
  "language_info": {
   "codemirror_mode": {
    "name": "ipython",
    "version": 3
   },
   "file_extension": ".py",
   "mimetype": "text/x-python",
   "name": "python",
   "nbconvert_exporter": "python",
   "pygments_lexer": "ipython3",
   "version": "3.9.13"
  },
  "orig_nbformat": 4,
  "vscode": {
   "interpreter": {
    "hash": "4b012d59fd9967520aa1876644e3a9774eee391dbb6584df68e553498820aaf9"
   }
  }
 },
 "nbformat": 4,
 "nbformat_minor": 2
}
